{
 "cells": [
  {
   "cell_type": "markdown",
   "id": "b27d6ec4-6b65-4261-937b-7d28525171ee",
   "metadata": {},
   "source": [
    "Lab 6 - Trinh Pham and Joesph Delgadillo"
   ]
  },
  {
   "cell_type": "code",
   "execution_count": 1,
   "id": "94c3a908-3cb4-40f9-9db6-489f57b9cf87",
   "metadata": {
    "execution": {
     "iopub.execute_input": "2023-10-11T03:23:11.046268Z",
     "iopub.status.busy": "2023-10-11T03:23:11.044880Z",
     "iopub.status.idle": "2023-10-11T03:23:13.674052Z",
     "shell.execute_reply": "2023-10-11T03:23:13.673153Z",
     "shell.execute_reply.started": "2023-10-11T03:23:11.046236Z"
    }
   },
   "outputs": [
    {
     "data": {
      "text/html": [
       "<div>\n",
       "<style scoped>\n",
       "    .dataframe tbody tr th:only-of-type {\n",
       "        vertical-align: middle;\n",
       "    }\n",
       "\n",
       "    .dataframe tbody tr th {\n",
       "        vertical-align: top;\n",
       "    }\n",
       "\n",
       "    .dataframe thead th {\n",
       "        text-align: right;\n",
       "    }\n",
       "</style>\n",
       "<table border=\"1\" class=\"dataframe\">\n",
       "  <thead>\n",
       "    <tr style=\"text-align: right;\">\n",
       "      <th></th>\n",
       "      <th>key</th>\n",
       "      <th>fare_amount</th>\n",
       "      <th>pickup_datetime</th>\n",
       "      <th>pickup_longitude</th>\n",
       "      <th>pickup_latitude</th>\n",
       "      <th>dropoff_longitude</th>\n",
       "      <th>dropoff_latitude</th>\n",
       "      <th>passenger_count</th>\n",
       "    </tr>\n",
       "  </thead>\n",
       "  <tbody>\n",
       "    <tr>\n",
       "      <th>0</th>\n",
       "      <td>26:21.0</td>\n",
       "      <td>4.5</td>\n",
       "      <td>2009-06-15 17:26:21 UTC</td>\n",
       "      <td>-73.844311</td>\n",
       "      <td>40.721319</td>\n",
       "      <td>-73.841610</td>\n",
       "      <td>40.712278</td>\n",
       "      <td>1</td>\n",
       "    </tr>\n",
       "    <tr>\n",
       "      <th>1</th>\n",
       "      <td>52:16.0</td>\n",
       "      <td>16.9</td>\n",
       "      <td>2010-01-05 16:52:16 UTC</td>\n",
       "      <td>-74.016048</td>\n",
       "      <td>40.711303</td>\n",
       "      <td>-73.979268</td>\n",
       "      <td>40.782004</td>\n",
       "      <td>1</td>\n",
       "    </tr>\n",
       "    <tr>\n",
       "      <th>2</th>\n",
       "      <td>35:00.0</td>\n",
       "      <td>5.7</td>\n",
       "      <td>2011-08-18 00:35:00 UTC</td>\n",
       "      <td>-73.982738</td>\n",
       "      <td>40.761270</td>\n",
       "      <td>-73.991242</td>\n",
       "      <td>40.750562</td>\n",
       "      <td>2</td>\n",
       "    </tr>\n",
       "    <tr>\n",
       "      <th>3</th>\n",
       "      <td>30:42.0</td>\n",
       "      <td>7.7</td>\n",
       "      <td>2012-04-21 04:30:42 UTC</td>\n",
       "      <td>-73.987130</td>\n",
       "      <td>40.733143</td>\n",
       "      <td>-73.991567</td>\n",
       "      <td>40.758092</td>\n",
       "      <td>1</td>\n",
       "    </tr>\n",
       "    <tr>\n",
       "      <th>4</th>\n",
       "      <td>51:00.0</td>\n",
       "      <td>5.3</td>\n",
       "      <td>2010-03-09 07:51:00 UTC</td>\n",
       "      <td>-73.968095</td>\n",
       "      <td>40.768008</td>\n",
       "      <td>-73.956655</td>\n",
       "      <td>40.783762</td>\n",
       "      <td>1</td>\n",
       "    </tr>\n",
       "  </tbody>\n",
       "</table>\n",
       "</div>"
      ],
      "text/plain": [
       "       key  fare_amount          pickup_datetime  pickup_longitude  \\\n",
       "0  26:21.0          4.5  2009-06-15 17:26:21 UTC        -73.844311   \n",
       "1  52:16.0         16.9  2010-01-05 16:52:16 UTC        -74.016048   \n",
       "2  35:00.0          5.7  2011-08-18 00:35:00 UTC        -73.982738   \n",
       "3  30:42.0          7.7  2012-04-21 04:30:42 UTC        -73.987130   \n",
       "4  51:00.0          5.3  2010-03-09 07:51:00 UTC        -73.968095   \n",
       "\n",
       "   pickup_latitude  dropoff_longitude  dropoff_latitude  passenger_count  \n",
       "0        40.721319         -73.841610         40.712278                1  \n",
       "1        40.711303         -73.979268         40.782004                1  \n",
       "2        40.761270         -73.991242         40.750562                2  \n",
       "3        40.733143         -73.991567         40.758092                1  \n",
       "4        40.768008         -73.956655         40.783762                1  "
      ]
     },
     "execution_count": 1,
     "metadata": {},
     "output_type": "execute_result"
    }
   ],
   "source": [
    "import pandas as pd\n",
    "\n",
    "file_path = \"NYC_taxi_fares.csv\"\n",
    "df = pd.read_csv(file_path)\n",
    "\n",
    "df.head()  #printing dataset\n"
   ]
  },
  {
   "cell_type": "markdown",
   "id": "2f8c3e14-b958-4f29-87f3-e93a259fc0fa",
   "metadata": {},
   "source": [
    "Data Cleaning\n",
    "\n",
    "Process where we will be removing columns with 0's or NULL values. This will make our data much more clean and easier to compute"
   ]
  },
  {
   "cell_type": "code",
   "execution_count": 2,
   "id": "0b9a0bad-08cd-4b9f-aa0c-af7a2ddbfe3c",
   "metadata": {
    "execution": {
     "iopub.execute_input": "2023-10-11T03:23:13.676292Z",
     "iopub.status.busy": "2023-10-11T03:23:13.675635Z",
     "iopub.status.idle": "2023-10-11T03:23:14.363007Z",
     "shell.execute_reply": "2023-10-11T03:23:14.362033Z",
     "shell.execute_reply.started": "2023-10-11T03:23:13.676264Z"
    }
   },
   "outputs": [],
   "source": [
    "df = df[(df != 0).all(1)]\n",
    "df = df.dropna()\n",
    "\n",
    "df = df.reset_index(drop=True)"
   ]
  },
  {
   "cell_type": "markdown",
   "id": "7ff88c1c-ba05-4714-8693-6814fdefd2ef",
   "metadata": {},
   "source": [
    "Euclidean Distance formula ((latitude1-latitude2)^2 + (longitude1-longitude2)^2)^0.5)\n",
    "\n",
    "Computing distance for each taxi ride\n"
   ]
  },
  {
   "cell_type": "code",
   "execution_count": 3,
   "id": "ad053914-c5b9-4dce-9604-49778edeeac8",
   "metadata": {
    "execution": {
     "iopub.execute_input": "2023-10-11T03:23:14.364648Z",
     "iopub.status.busy": "2023-10-11T03:23:14.364101Z",
     "iopub.status.idle": "2023-10-11T03:23:14.398014Z",
     "shell.execute_reply": "2023-10-11T03:23:14.397339Z",
     "shell.execute_reply.started": "2023-10-11T03:23:14.364621Z"
    }
   },
   "outputs": [
    {
     "data": {
      "text/html": [
       "<div>\n",
       "<style scoped>\n",
       "    .dataframe tbody tr th:only-of-type {\n",
       "        vertical-align: middle;\n",
       "    }\n",
       "\n",
       "    .dataframe tbody tr th {\n",
       "        vertical-align: top;\n",
       "    }\n",
       "\n",
       "    .dataframe thead th {\n",
       "        text-align: right;\n",
       "    }\n",
       "</style>\n",
       "<table border=\"1\" class=\"dataframe\">\n",
       "  <thead>\n",
       "    <tr style=\"text-align: right;\">\n",
       "      <th></th>\n",
       "      <th>key</th>\n",
       "      <th>fare_amount</th>\n",
       "      <th>pickup_datetime</th>\n",
       "      <th>pickup_longitude</th>\n",
       "      <th>pickup_latitude</th>\n",
       "      <th>dropoff_longitude</th>\n",
       "      <th>dropoff_latitude</th>\n",
       "      <th>passenger_count</th>\n",
       "      <th>distance</th>\n",
       "    </tr>\n",
       "  </thead>\n",
       "  <tbody>\n",
       "    <tr>\n",
       "      <th>0</th>\n",
       "      <td>26:21.0</td>\n",
       "      <td>4.5</td>\n",
       "      <td>2009-06-15 17:26:21 UTC</td>\n",
       "      <td>-73.844311</td>\n",
       "      <td>40.721319</td>\n",
       "      <td>-73.841610</td>\n",
       "      <td>40.712278</td>\n",
       "      <td>1</td>\n",
       "      <td>0.009436</td>\n",
       "    </tr>\n",
       "    <tr>\n",
       "      <th>1</th>\n",
       "      <td>52:16.0</td>\n",
       "      <td>16.9</td>\n",
       "      <td>2010-01-05 16:52:16 UTC</td>\n",
       "      <td>-74.016048</td>\n",
       "      <td>40.711303</td>\n",
       "      <td>-73.979268</td>\n",
       "      <td>40.782004</td>\n",
       "      <td>1</td>\n",
       "      <td>0.079696</td>\n",
       "    </tr>\n",
       "    <tr>\n",
       "      <th>2</th>\n",
       "      <td>35:00.0</td>\n",
       "      <td>5.7</td>\n",
       "      <td>2011-08-18 00:35:00 UTC</td>\n",
       "      <td>-73.982738</td>\n",
       "      <td>40.761270</td>\n",
       "      <td>-73.991242</td>\n",
       "      <td>40.750562</td>\n",
       "      <td>2</td>\n",
       "      <td>0.013674</td>\n",
       "    </tr>\n",
       "    <tr>\n",
       "      <th>3</th>\n",
       "      <td>30:42.0</td>\n",
       "      <td>7.7</td>\n",
       "      <td>2012-04-21 04:30:42 UTC</td>\n",
       "      <td>-73.987130</td>\n",
       "      <td>40.733143</td>\n",
       "      <td>-73.991567</td>\n",
       "      <td>40.758092</td>\n",
       "      <td>1</td>\n",
       "      <td>0.025340</td>\n",
       "    </tr>\n",
       "    <tr>\n",
       "      <th>4</th>\n",
       "      <td>51:00.0</td>\n",
       "      <td>5.3</td>\n",
       "      <td>2010-03-09 07:51:00 UTC</td>\n",
       "      <td>-73.968095</td>\n",
       "      <td>40.768008</td>\n",
       "      <td>-73.956655</td>\n",
       "      <td>40.783762</td>\n",
       "      <td>1</td>\n",
       "      <td>0.019470</td>\n",
       "    </tr>\n",
       "  </tbody>\n",
       "</table>\n",
       "</div>"
      ],
      "text/plain": [
       "       key  fare_amount          pickup_datetime  pickup_longitude  \\\n",
       "0  26:21.0          4.5  2009-06-15 17:26:21 UTC        -73.844311   \n",
       "1  52:16.0         16.9  2010-01-05 16:52:16 UTC        -74.016048   \n",
       "2  35:00.0          5.7  2011-08-18 00:35:00 UTC        -73.982738   \n",
       "3  30:42.0          7.7  2012-04-21 04:30:42 UTC        -73.987130   \n",
       "4  51:00.0          5.3  2010-03-09 07:51:00 UTC        -73.968095   \n",
       "\n",
       "   pickup_latitude  dropoff_longitude  dropoff_latitude  passenger_count  \\\n",
       "0        40.721319         -73.841610         40.712278                1   \n",
       "1        40.711303         -73.979268         40.782004                1   \n",
       "2        40.761270         -73.991242         40.750562                2   \n",
       "3        40.733143         -73.991567         40.758092                1   \n",
       "4        40.768008         -73.956655         40.783762                1   \n",
       "\n",
       "   distance  \n",
       "0  0.009436  \n",
       "1  0.079696  \n",
       "2  0.013674  \n",
       "3  0.025340  \n",
       "4  0.019470  "
      ]
     },
     "execution_count": 3,
     "metadata": {},
     "output_type": "execute_result"
    }
   ],
   "source": [
    "def euc_distance(lat1, long1, lat2, long2):\n",
    "    return ((lat1 - lat2) ** 2 + (long1 - long2) ** 2) ** 0.5\n",
    "\n",
    "# Apply the euc_distance function to calculate the distance for each row\n",
    "df['distance'] = euc_distance(df['pickup_latitude'], df['pickup_longitude'], df['dropoff_latitude'], df['dropoff_longitude'])\n",
    "\n",
    "#this will create a seperate column in the dataset to store the distances of each ride\n",
    "df.head()"
   ]
  },
  {
   "cell_type": "markdown",
   "id": "6fc6963d-d115-49a2-bd5a-636efe63b0c2",
   "metadata": {},
   "source": [
    "Parsing the pieces of data because taxi fares surcharge depending on time of pickup and date, so it is crucial that the machine knows the date/time. Parsing allows for better machine comprehension"
   ]
  },
  {
   "cell_type": "code",
   "execution_count": 4,
   "id": "09c19da3-519d-4a6f-9e4a-725ff838d1d2",
   "metadata": {
    "execution": {
     "iopub.execute_input": "2023-10-11T03:23:14.400495Z",
     "iopub.status.busy": "2023-10-11T03:23:14.399798Z",
     "iopub.status.idle": "2023-10-11T03:25:45.047112Z",
     "shell.execute_reply": "2023-10-11T03:25:45.046276Z",
     "shell.execute_reply.started": "2023-10-11T03:23:14.400463Z"
    }
   },
   "outputs": [],
   "source": [
    "# Convert 'pickup_datetime' to datetime data type\n",
    "df['pickup_datetime'] = pd.to_datetime(df['pickup_datetime'])\n",
    "\n",
    "# Create new columns and assign the extracted values\n",
    "df['year'] = df['pickup_datetime'].dt.year\n",
    "df['month'] = df['pickup_datetime'].dt.month\n",
    "df['day'] = df['pickup_datetime'].dt.day\n",
    "df['day_of_week'] = df['pickup_datetime'].dt.dayofweek\n",
    "df['hour'] = df['pickup_datetime'].dt.hour\n"
   ]
  },
  {
   "cell_type": "markdown",
   "id": "60ad54da-fcde-4251-b4d0-ae0948617261",
   "metadata": {},
   "source": [
    "Since we have computed the euclidean distance, longitude and latitude are of no use to the dataset anymore.\n",
    "We are going to delete the key, pickup_datetime, longitude and latitude columns"
   ]
  },
  {
   "cell_type": "code",
   "execution_count": 5,
   "id": "6df9208b-293e-4aa7-a3c1-566fc3ce1334",
   "metadata": {
    "execution": {
     "iopub.execute_input": "2023-10-11T03:25:45.048877Z",
     "iopub.status.busy": "2023-10-11T03:25:45.048131Z",
     "iopub.status.idle": "2023-10-11T03:25:45.107475Z",
     "shell.execute_reply": "2023-10-11T03:25:45.106764Z",
     "shell.execute_reply.started": "2023-10-11T03:25:45.048848Z"
    }
   },
   "outputs": [
    {
     "data": {
      "text/html": [
       "<div>\n",
       "<style scoped>\n",
       "    .dataframe tbody tr th:only-of-type {\n",
       "        vertical-align: middle;\n",
       "    }\n",
       "\n",
       "    .dataframe tbody tr th {\n",
       "        vertical-align: top;\n",
       "    }\n",
       "\n",
       "    .dataframe thead th {\n",
       "        text-align: right;\n",
       "    }\n",
       "</style>\n",
       "<table border=\"1\" class=\"dataframe\">\n",
       "  <thead>\n",
       "    <tr style=\"text-align: right;\">\n",
       "      <th></th>\n",
       "      <th>fare_amount</th>\n",
       "      <th>passenger_count</th>\n",
       "      <th>distance</th>\n",
       "      <th>year</th>\n",
       "      <th>month</th>\n",
       "      <th>day</th>\n",
       "      <th>day_of_week</th>\n",
       "      <th>hour</th>\n",
       "    </tr>\n",
       "  </thead>\n",
       "  <tbody>\n",
       "    <tr>\n",
       "      <th>0</th>\n",
       "      <td>4.5</td>\n",
       "      <td>1</td>\n",
       "      <td>0.009436</td>\n",
       "      <td>2009</td>\n",
       "      <td>6</td>\n",
       "      <td>15</td>\n",
       "      <td>0</td>\n",
       "      <td>17</td>\n",
       "    </tr>\n",
       "    <tr>\n",
       "      <th>1</th>\n",
       "      <td>16.9</td>\n",
       "      <td>1</td>\n",
       "      <td>0.079696</td>\n",
       "      <td>2010</td>\n",
       "      <td>1</td>\n",
       "      <td>5</td>\n",
       "      <td>1</td>\n",
       "      <td>16</td>\n",
       "    </tr>\n",
       "    <tr>\n",
       "      <th>2</th>\n",
       "      <td>5.7</td>\n",
       "      <td>2</td>\n",
       "      <td>0.013674</td>\n",
       "      <td>2011</td>\n",
       "      <td>8</td>\n",
       "      <td>18</td>\n",
       "      <td>3</td>\n",
       "      <td>0</td>\n",
       "    </tr>\n",
       "    <tr>\n",
       "      <th>3</th>\n",
       "      <td>7.7</td>\n",
       "      <td>1</td>\n",
       "      <td>0.025340</td>\n",
       "      <td>2012</td>\n",
       "      <td>4</td>\n",
       "      <td>21</td>\n",
       "      <td>5</td>\n",
       "      <td>4</td>\n",
       "    </tr>\n",
       "    <tr>\n",
       "      <th>4</th>\n",
       "      <td>5.3</td>\n",
       "      <td>1</td>\n",
       "      <td>0.019470</td>\n",
       "      <td>2010</td>\n",
       "      <td>3</td>\n",
       "      <td>9</td>\n",
       "      <td>1</td>\n",
       "      <td>7</td>\n",
       "    </tr>\n",
       "  </tbody>\n",
       "</table>\n",
       "</div>"
      ],
      "text/plain": [
       "   fare_amount  passenger_count  distance  year  month  day  day_of_week  hour\n",
       "0          4.5                1  0.009436  2009      6   15            0    17\n",
       "1         16.9                1  0.079696  2010      1    5            1    16\n",
       "2          5.7                2  0.013674  2011      8   18            3     0\n",
       "3          7.7                1  0.025340  2012      4   21            5     4\n",
       "4          5.3                1  0.019470  2010      3    9            1     7"
      ]
     },
     "execution_count": 5,
     "metadata": {},
     "output_type": "execute_result"
    }
   ],
   "source": [
    "columns_removal = ['key', 'pickup_datetime', 'pickup_longitude','pickup_latitude', 'dropoff_longitude', 'dropoff_latitude']\n",
    "df = df.drop(columns_removal, axis=1)\n",
    "df.head()"
   ]
  },
  {
   "cell_type": "markdown",
   "id": "a2a6de61-21f3-4cac-ba29-f54e6f1bc599",
   "metadata": {},
   "source": [
    "Data preprocessing\n",
    "Normal Standardization\n",
    "\n",
    "Normal standardization (feature scaling) transforms data to have a mean of 0 and standard deviation of 1"
   ]
  },
  {
   "cell_type": "code",
   "execution_count": 6,
   "id": "f6a8c367-c0a3-40c4-80ac-7512db0fbba8",
   "metadata": {
    "execution": {
     "iopub.execute_input": "2023-10-11T03:25:45.109187Z",
     "iopub.status.busy": "2023-10-11T03:25:45.108418Z",
     "iopub.status.idle": "2023-10-11T03:25:46.772901Z",
     "shell.execute_reply": "2023-10-11T03:25:46.772238Z",
     "shell.execute_reply.started": "2023-10-11T03:25:45.109160Z"
    }
   },
   "outputs": [
    {
     "data": {
      "text/html": [
       "<div>\n",
       "<style scoped>\n",
       "    .dataframe tbody tr th:only-of-type {\n",
       "        vertical-align: middle;\n",
       "    }\n",
       "\n",
       "    .dataframe tbody tr th {\n",
       "        vertical-align: top;\n",
       "    }\n",
       "\n",
       "    .dataframe thead th {\n",
       "        text-align: right;\n",
       "    }\n",
       "</style>\n",
       "<table border=\"1\" class=\"dataframe\">\n",
       "  <thead>\n",
       "    <tr style=\"text-align: right;\">\n",
       "      <th></th>\n",
       "      <th>fare_amount</th>\n",
       "      <th>passenger_count</th>\n",
       "      <th>distance</th>\n",
       "      <th>year</th>\n",
       "      <th>month</th>\n",
       "      <th>day</th>\n",
       "      <th>day_of_week</th>\n",
       "      <th>hour</th>\n",
       "    </tr>\n",
       "  </thead>\n",
       "  <tbody>\n",
       "    <tr>\n",
       "      <th>0</th>\n",
       "      <td>-0.701060</td>\n",
       "      <td>-0.529102</td>\n",
       "      <td>-0.007416</td>\n",
       "      <td>-1.469068</td>\n",
       "      <td>-0.078282</td>\n",
       "      <td>-0.080307</td>\n",
       "      <td>-1.559067</td>\n",
       "      <td>0.536139</td>\n",
       "    </tr>\n",
       "    <tr>\n",
       "      <th>1</th>\n",
       "      <td>0.569952</td>\n",
       "      <td>-0.529102</td>\n",
       "      <td>-0.000516</td>\n",
       "      <td>-0.933028</td>\n",
       "      <td>-1.533250</td>\n",
       "      <td>-1.232332</td>\n",
       "      <td>-1.046137</td>\n",
       "      <td>0.382582</td>\n",
       "    </tr>\n",
       "    <tr>\n",
       "      <th>2</th>\n",
       "      <td>-0.578059</td>\n",
       "      <td>0.236334</td>\n",
       "      <td>-0.006999</td>\n",
       "      <td>-0.396988</td>\n",
       "      <td>0.503705</td>\n",
       "      <td>0.265300</td>\n",
       "      <td>-0.020276</td>\n",
       "      <td>-2.074325</td>\n",
       "    </tr>\n",
       "    <tr>\n",
       "      <th>3</th>\n",
       "      <td>-0.373057</td>\n",
       "      <td>-0.529102</td>\n",
       "      <td>-0.005854</td>\n",
       "      <td>0.139053</td>\n",
       "      <td>-0.660269</td>\n",
       "      <td>0.610908</td>\n",
       "      <td>1.005585</td>\n",
       "      <td>-1.460098</td>\n",
       "    </tr>\n",
       "    <tr>\n",
       "      <th>4</th>\n",
       "      <td>-0.619060</td>\n",
       "      <td>-0.529102</td>\n",
       "      <td>-0.006430</td>\n",
       "      <td>-0.933028</td>\n",
       "      <td>-0.951263</td>\n",
       "      <td>-0.771522</td>\n",
       "      <td>-1.046137</td>\n",
       "      <td>-0.999428</td>\n",
       "    </tr>\n",
       "  </tbody>\n",
       "</table>\n",
       "</div>"
      ],
      "text/plain": [
       "   fare_amount  passenger_count  distance      year     month       day  \\\n",
       "0    -0.701060        -0.529102 -0.007416 -1.469068 -0.078282 -0.080307   \n",
       "1     0.569952        -0.529102 -0.000516 -0.933028 -1.533250 -1.232332   \n",
       "2    -0.578059         0.236334 -0.006999 -0.396988  0.503705  0.265300   \n",
       "3    -0.373057        -0.529102 -0.005854  0.139053 -0.660269  0.610908   \n",
       "4    -0.619060        -0.529102 -0.006430 -0.933028 -0.951263 -0.771522   \n",
       "\n",
       "   day_of_week      hour  \n",
       "0    -1.559067  0.536139  \n",
       "1    -1.046137  0.382582  \n",
       "2    -0.020276 -2.074325  \n",
       "3     1.005585 -1.460098  \n",
       "4    -1.046137 -0.999428  "
      ]
     },
     "execution_count": 6,
     "metadata": {},
     "output_type": "execute_result"
    }
   ],
   "source": [
    "from sklearn.preprocessing import StandardScaler\n",
    "\n",
    "#columns to be standardized\n",
    "columns_to_standardize = ['fare_amount','passenger_count', \"distance\", 'year', 'month', 'day', 'day_of_week', 'hour']\n",
    "X_to_scale = df[columns_to_standardize]\n",
    "\n",
    "scaler = StandardScaler()\n",
    "scaler.fit(X_to_scale)\n",
    "\n",
    "#transforms selected columns\n",
    "X_scaled = scaler.transform(X_to_scale)\n",
    "\n",
    "#replaces original columns with scaled data\n",
    "df[columns_to_standardize] = X_scaled\n",
    "  \n",
    "\n",
    "df.head()"
   ]
  },
  {
   "cell_type": "markdown",
   "id": "2bd20dd0-ecf9-48a5-9043-c63537e7208f",
   "metadata": {},
   "source": [
    "Data splitting for training and testing (20% for testing and 80% for training) "
   ]
  },
  {
   "cell_type": "code",
   "execution_count": 7,
   "id": "7ac9d1a0-cfdb-4263-a0b2-92ae574486b1",
   "metadata": {
    "execution": {
     "iopub.execute_input": "2023-10-11T03:25:46.774633Z",
     "iopub.status.busy": "2023-10-11T03:25:46.773931Z",
     "iopub.status.idle": "2023-10-11T03:25:47.399278Z",
     "shell.execute_reply": "2023-10-11T03:25:47.398488Z",
     "shell.execute_reply.started": "2023-10-11T03:25:46.774602Z"
    }
   },
   "outputs": [
    {
     "name": "stdout",
     "output_type": "stream",
     "text": [
      "<class 'pandas.core.frame.DataFrame'>\n",
      "RangeIndex: 1024302 entries, 0 to 1024301\n",
      "Data columns (total 8 columns):\n",
      " #   Column           Non-Null Count    Dtype  \n",
      "---  ------           --------------    -----  \n",
      " 0   fare_amount      1024302 non-null  float64\n",
      " 1   passenger_count  1024302 non-null  float64\n",
      " 2   distance         1024302 non-null  float64\n",
      " 3   year             1024302 non-null  float64\n",
      " 4   month            1024302 non-null  float64\n",
      " 5   day              1024302 non-null  float64\n",
      " 6   day_of_week      1024302 non-null  float64\n",
      " 7   hour             1024302 non-null  float64\n",
      "dtypes: float64(8)\n",
      "memory usage: 62.5 MB\n"
     ]
    }
   ],
   "source": [
    "from sklearn.model_selection import train_test_split\n",
    "\n",
    "#The feature matrix and target variable will be the fare_amount column\n",
    "X = df.drop(\"fare_amount\", axis=1) \n",
    "y = df[\"fare_amount\"]\n",
    "\n",
    "# Splitting the data into training and testing sets \n",
    "#We will take 20% of the data for testing and reserve the other 80% for training\n",
    "X_train, X_test, y_train, y_test = train_test_split(X, y, test_size=0.2, random_state=42)\n",
    "\n",
    "df.info()"
   ]
  },
  {
   "cell_type": "markdown",
   "id": "d2e883b3-399b-4b85-8d23-046b0af61dfb",
   "metadata": {},
   "source": [
    "Creating Neural Network Model\n",
    "\n",
    "Feedforward neural network with three layers:"
   ]
  },
  {
   "cell_type": "code",
   "execution_count": 8,
   "id": "9f5a256e-4f28-42b8-a213-9a988da289cf",
   "metadata": {
    "execution": {
     "iopub.execute_input": "2023-10-11T03:25:47.401724Z",
     "iopub.status.busy": "2023-10-11T03:25:47.400349Z",
     "iopub.status.idle": "2023-10-11T03:25:53.427572Z",
     "shell.execute_reply": "2023-10-11T03:25:53.426492Z",
     "shell.execute_reply.started": "2023-10-11T03:25:47.401675Z"
    }
   },
   "outputs": [],
   "source": [
    "import tensorflow as tf\n",
    "from tensorflow import keras\n",
    "\n",
    "\n",
    "#The input shape will be 7 since the output column was dropped \n",
    "model = keras.Sequential([\n",
    "    keras.layers.Dense(64, activation='relu', input_shape=(7,)),\n",
    "    keras.layers.Dense(32, activation='relu'),\n",
    "    keras.layers.Dense(1)\n",
    "  # Output layer for mean squared error\n",
    "])"
   ]
  },
  {
   "cell_type": "markdown",
   "id": "cf4300d1-5b3e-4372-aa63-1693081c1814",
   "metadata": {},
   "source": [
    "Data testing, low MSE = better model performance"
   ]
  },
  {
   "cell_type": "code",
   "execution_count": 17,
   "id": "affda080-2404-4934-a18e-0b9fabd02fe6",
   "metadata": {
    "execution": {
     "iopub.execute_input": "2023-10-11T05:21:29.899302Z",
     "iopub.status.busy": "2023-10-11T05:21:29.898562Z",
     "iopub.status.idle": "2023-10-11T05:44:04.790224Z",
     "shell.execute_reply": "2023-10-11T05:44:04.788385Z",
     "shell.execute_reply.started": "2023-10-11T05:21:29.899273Z"
    }
   },
   "outputs": [
    {
     "name": "stdout",
     "output_type": "stream",
     "text": [
      "Epoch 1/25\n"
     ]
    },
    {
     "name": "stderr",
     "output_type": "stream",
     "text": [
      "/usr/local/lib/python3.9/dist-packages/keras/engine/data_adapter.py:1508: FutureWarning: The behavior of `series[i:j]` with an integer-dtype index is deprecated. In a future version, this will be treated as *label-based* indexing, consistent with e.g. `series[i]` lookups. To retain the old behavior, use `series.iloc[i:j]`. To get the future behavior, use `series.loc[i:j]`.\n",
      "  return t[start:end]\n"
     ]
    },
    {
     "name": "stdout",
     "output_type": "stream",
     "text": [
      "20486/20486 [==============================] - 54s 3ms/step - loss: 0.2204 - mean_squared_error: 0.2204 - val_loss: 0.2376 - val_mean_squared_error: 0.2376\n",
      "Epoch 2/25\n",
      "20486/20486 [==============================] - 52s 3ms/step - loss: 0.2195 - mean_squared_error: 0.2195 - val_loss: 0.2365 - val_mean_squared_error: 0.2365\n",
      "Epoch 3/25\n",
      "20486/20486 [==============================] - 53s 3ms/step - loss: 0.2197 - mean_squared_error: 0.2197 - val_loss: 0.2355 - val_mean_squared_error: 0.2355\n",
      "Epoch 4/25\n",
      "20486/20486 [==============================] - 55s 3ms/step - loss: 0.2193 - mean_squared_error: 0.2193 - val_loss: 0.2359 - val_mean_squared_error: 0.2359\n",
      "Epoch 5/25\n",
      "20486/20486 [==============================] - 54s 3ms/step - loss: 0.2196 - mean_squared_error: 0.2196 - val_loss: 0.2374 - val_mean_squared_error: 0.2374\n",
      "Epoch 6/25\n",
      "20486/20486 [==============================] - 53s 3ms/step - loss: 0.2198 - mean_squared_error: 0.2198 - val_loss: 0.2346 - val_mean_squared_error: 0.2346\n",
      "Epoch 7/25\n",
      "20486/20486 [==============================] - 53s 3ms/step - loss: 0.2199 - mean_squared_error: 0.2199 - val_loss: 0.2376 - val_mean_squared_error: 0.2376\n",
      "Epoch 8/25\n",
      "20486/20486 [==============================] - 56s 3ms/step - loss: 0.2196 - mean_squared_error: 0.2196 - val_loss: 0.2373 - val_mean_squared_error: 0.2373\n",
      "Epoch 9/25\n",
      "20486/20486 [==============================] - 54s 3ms/step - loss: 0.2201 - mean_squared_error: 0.2201 - val_loss: 0.2363 - val_mean_squared_error: 0.2363\n",
      "Epoch 10/25\n",
      "20486/20486 [==============================] - 54s 3ms/step - loss: 0.2197 - mean_squared_error: 0.2197 - val_loss: 0.2385 - val_mean_squared_error: 0.2385\n",
      "Epoch 11/25\n",
      "20486/20486 [==============================] - 54s 3ms/step - loss: 0.2195 - mean_squared_error: 0.2195 - val_loss: 0.2378 - val_mean_squared_error: 0.2378\n",
      "Epoch 12/25\n",
      "20486/20486 [==============================] - 53s 3ms/step - loss: 0.2204 - mean_squared_error: 0.2204 - val_loss: 0.2400 - val_mean_squared_error: 0.2400\n",
      "Epoch 13/25\n",
      "20486/20486 [==============================] - 53s 3ms/step - loss: 0.2198 - mean_squared_error: 0.2198 - val_loss: 0.2401 - val_mean_squared_error: 0.2401\n",
      "Epoch 15/25\n",
      "20486/20486 [==============================] - 52s 3ms/step - loss: 0.2192 - mean_squared_error: 0.2192 - val_loss: 0.2403 - val_mean_squared_error: 0.2403\n",
      "Epoch 16/25\n",
      "20486/20486 [==============================] - 54s 3ms/step - loss: 0.2189 - mean_squared_error: 0.2189 - val_loss: 0.2354 - val_mean_squared_error: 0.2354\n",
      "Epoch 17/25\n",
      "20486/20486 [==============================] - 54s 3ms/step - loss: 0.2187 - mean_squared_error: 0.2187 - val_loss: 0.2381 - val_mean_squared_error: 0.2381\n",
      "Epoch 18/25\n",
      " 7952/20486 [==========>...................] - ETA: 27s - loss: 0.2354 - mean_squared_error: 0.2354"
     ]
    },
    {
     "name": "stderr",
     "output_type": "stream",
     "text": [
      "IOPub message rate exceeded.\n",
      "The Jupyter server will temporarily stop sending output\n",
      "to the client in order to avoid crashing it.\n",
      "To change this limit, set the config variable\n",
      "`--ServerApp.iopub_msg_rate_limit`.\n",
      "\n",
      "Current values:\n",
      "ServerApp.iopub_msg_rate_limit=1000.0 (msgs/sec)\n",
      "ServerApp.rate_limit_window=3.0 (secs)\n",
      "\n"
     ]
    },
    {
     "name": "stdout",
     "output_type": "stream",
     "text": [
      "20486/20486 [==============================] - 53s 3ms/step - loss: 0.2196 - mean_squared_error: 0.2196 - val_loss: 0.2373 - val_mean_squared_error: 0.2373\n",
      "Epoch 20/25\n",
      "20486/20486 [==============================] - 53s 3ms/step - loss: 0.2201 - mean_squared_error: 0.2201 - val_loss: 0.2361 - val_mean_squared_error: 0.2361\n",
      "Epoch 21/25\n",
      "20486/20486 [==============================] - 53s 3ms/step - loss: 0.2192 - mean_squared_error: 0.2192 - val_loss: 0.2377 - val_mean_squared_error: 0.2377\n",
      "Epoch 22/25\n",
      "20486/20486 [==============================] - 53s 3ms/step - loss: 0.2189 - mean_squared_error: 0.2189 - val_loss: 0.2357 - val_mean_squared_error: 0.2357\n",
      "Epoch 23/25\n",
      "20486/20486 [==============================] - 51s 2ms/step - loss: 0.2185 - mean_squared_error: 0.2185 - val_loss: 0.2361 - val_mean_squared_error: 0.2361\n",
      "Epoch 24/25\n",
      "20486/20486 [==============================] - 54s 3ms/step - loss: 0.2198 - mean_squared_error: 0.2198 - val_loss: 0.2391 - val_mean_squared_error: 0.2391\n",
      "Epoch 25/25\n",
      "20486/20486 [==============================] - 53s 3ms/step - loss: 0.2185 - mean_squared_error: 0.2185 - val_loss: 0.2385 - val_mean_squared_error: 0.2385\n",
      "6402/6402 [==============================] - 13s 2ms/step - loss: 0.2274 - mean_squared_error: 0.2274\n",
      "Test Accuracy: 0.22738564014434814\n"
     ]
    },
    {
     "ename": "NameError",
     "evalue": "name 'X_new_data' is not defined",
     "output_type": "error",
     "traceback": [
      "\u001b[0;31m---------------------------------------------------------------------------\u001b[0m",
      "\u001b[0;31mNameError\u001b[0m                                 Traceback (most recent call last)",
      "Cell \u001b[0;32mIn [17], line 6\u001b[0m\n\u001b[1;32m      4\u001b[0m test_loss, test_accuracy \u001b[38;5;241m=\u001b[39m model\u001b[38;5;241m.\u001b[39mevaluate(X_test, y_test)\n\u001b[1;32m      5\u001b[0m \u001b[38;5;28mprint\u001b[39m(\u001b[38;5;124mf\u001b[39m\u001b[38;5;124m'\u001b[39m\u001b[38;5;124mTest Accuracy: \u001b[39m\u001b[38;5;132;01m{\u001b[39;00mtest_accuracy\u001b[38;5;132;01m}\u001b[39;00m\u001b[38;5;124m'\u001b[39m)\n\u001b[0;32m----> 6\u001b[0m predictions \u001b[38;5;241m=\u001b[39m model\u001b[38;5;241m.\u001b[39mpredict(\u001b[43mX_new_data\u001b[49m)\n",
      "\u001b[0;31mNameError\u001b[0m: name 'X_new_data' is not defined"
     ]
    }
   ],
   "source": [
    "#We will be using mean squared error, the lower the MSE the better the model performance\n",
    "#decided to use 25 epochs because 100 took too long to render\n",
    "model.compile(optimizer='adam', loss='mean_squared_error', metrics=['mean_squared_error'])\n",
    "history = model.fit(X_train, y_train, epochs=25, batch_size=32, validation_split=0.2)\n",
    "test_loss, test_accuracy = model.evaluate(X_test, y_test)\n",
    "print(f'Test Accuracy: {test_accuracy}')\n",
    "predictions = model.predict(X_new_data)"
   ]
  },
  {
   "cell_type": "code",
   "execution_count": 18,
   "id": "368483ca-6c9f-44fe-a839-cee7297376c9",
   "metadata": {
    "execution": {
     "iopub.execute_input": "2023-10-11T05:44:13.851881Z",
     "iopub.status.busy": "2023-10-11T05:44:13.851531Z",
     "iopub.status.idle": "2023-10-11T05:44:13.859632Z",
     "shell.execute_reply": "2023-10-11T05:44:13.858507Z",
     "shell.execute_reply.started": "2023-10-11T05:44:13.851855Z"
    }
   },
   "outputs": [
    {
     "data": {
      "text/plain": [
       "dict_keys(['loss', 'mean_squared_error', 'val_loss', 'val_mean_squared_error'])"
      ]
     },
     "execution_count": 18,
     "metadata": {},
     "output_type": "execute_result"
    }
   ],
   "source": [
    "#history object is a dictionary containing data\n",
    "#Retrieves training history\n",
    "history_dict = history.history\n",
    "history_dict.keys()"
   ]
  },
  {
   "cell_type": "markdown",
   "id": "d8b42ec8-b546-4066-857e-4212a42c5905",
   "metadata": {},
   "source": [
    "Plotting the training data.\n",
    "The plots allows for a visual representation of of loss and accuracy.\n",
    "It is to monitor the model progress."
   ]
  },
  {
   "cell_type": "code",
   "execution_count": 19,
   "id": "bfe742af-927e-4915-9585-725fdb5fcf3c",
   "metadata": {
    "execution": {
     "iopub.execute_input": "2023-10-11T05:44:16.579328Z",
     "iopub.status.busy": "2023-10-11T05:44:16.578628Z",
     "iopub.status.idle": "2023-10-11T05:44:16.845756Z",
     "shell.execute_reply": "2023-10-11T05:44:16.844663Z",
     "shell.execute_reply.started": "2023-10-11T05:44:16.579298Z"
    }
   },
   "outputs": [
    {
     "data": {
      "image/png": "[encoded data removed]",
      "text/plain": [
       "<Figure size 640x480 with 1 Axes>"
      ]
     },
     "metadata": {},
     "output_type": "display_data"
    }
   ],
   "source": [
    "import matplotlib.pyplot as plt\n",
    "\n",
    "# Plot the training and validation loss\n",
    "loss_values = history_dict[\"loss\"]    #Gets loss values from training\n",
    "val_loss_values = history_dict[\"val_loss\"]   \n",
    "epochs = range(1, len(loss_values) + 1)\n",
    "\n",
    "plt.plot(epochs, loss_values, \"bo\", label=\"Training loss\")\n",
    "plt.plot(epochs, val_loss_values, \"b\", label=\"Validation loss\")\n",
    "plt.title(\"Training and validation loss\")\n",
    "plt.xlabel(\"Epochs\")\n",
    "plt.ylabel(\"Loss\")\n",
    "plt.legend()\n",
    "plt.show()"
   ]
  },
  {
   "cell_type": "code",
   "execution_count": 20,
   "id": "dc46cfcf-3463-458a-9d7f-ffdf51ab483e",
   "metadata": {
    "execution": {
     "iopub.execute_input": "2023-10-11T05:44:20.140773Z",
     "iopub.status.busy": "2023-10-11T05:44:20.140124Z",
     "iopub.status.idle": "2023-10-11T05:44:20.332138Z",
     "shell.execute_reply": "2023-10-11T05:44:20.331223Z",
     "shell.execute_reply.started": "2023-10-11T05:44:20.140703Z"
    }
   },
   "outputs": [
    {
     "data": {
      "image/png": "[encoded data removed]",
      "text/plain": [
       "<Figure size 640x480 with 1 Axes>"
      ]
     },
     "metadata": {},
     "output_type": "display_data"
    }
   ],
   "source": [
    "# Plot the training and validation accuracy\n",
    "plt.clf()\n",
    "acc = history_dict[\"mean_squared_error\"]  # Get the mean squared error values from training\n",
    "val_acc = history_dict[\"val_mean_squared_error\"]  # Get the validation mean squared error values\n",
    "epochs = range(1, len(acc) + 1)\n",
    "\n",
    "#\n",
    "plt.plot(epochs, acc, \"bo\", label=\"Training MSE\")  #plots training MSE values\n",
    "plt.plot(epochs, val_acc, \"b\", label=\"Validation MSE\") #Plots validation MSE values\n",
    "plt.title(\"Training and validation Mean Squared Error\")\n",
    "plt.xlabel(\"Epochs\")\n",
    "plt.ylabel(\"MSE\")\n",
    "plt.legend()\n",
    "plt.show()"
   ]
  },
  {
   "cell_type": "code",
   "execution_count": 21,
   "id": "dee0db45-2502-410c-9de1-e4e0d142b60e",
   "metadata": {
    "execution": {
     "iopub.execute_input": "2023-10-11T05:44:23.431941Z",
     "iopub.status.busy": "2023-10-11T05:44:23.431316Z",
     "iopub.status.idle": "2023-10-11T05:44:46.946549Z",
     "shell.execute_reply": "2023-10-11T05:44:46.945578Z",
     "shell.execute_reply.started": "2023-10-11T05:44:23.431912Z"
    }
   },
   "outputs": [
    {
     "name": "stdout",
     "output_type": "stream",
     "text": [
      "6402/6402 [==============================] - 9s 1ms/step\n",
      "6402/6402 [==============================] - 13s 2ms/step - loss: 0.2274 - mean_squared_error: 0.2274\n",
      "Test Mean Squared Error: 0.22738564014434814\n",
      "[[-0.26488838]\n",
      " [-0.01903838]\n",
      " [-0.411944  ]\n",
      " ...\n",
      " [-0.35063753]\n",
      " [-0.6353774 ]\n",
      " [-0.435388  ]]\n"
     ]
    }
   ],
   "source": [
    "predictions = model.predict(X_test)\n",
    "\n",
    "# Evaluate the model on the testing dataset (same evaluation as before)\n",
    "test_loss, test_mse = model.evaluate(X_test, y_test)\n",
    "print(f'Test Mean Squared Error: {test_mse}')\n",
    "\n",
    "# Inspect the predictions\n",
    "print(predictions)"
   ]
  }
 ],
 "metadata": {
  "kernelspec": {
   "display_name": "Python 3 (ipykernel)",
   "language": "python",
   "name": "python3"
  },
  "language_info": {
   "codemirror_mode": {
    "name": "ipython",
    "version": 3
   },
   "file_extension": ".py",
   "mimetype": "text/x-python",
   "name": "python",
   "nbconvert_exporter": "python",
   "pygments_lexer": "ipython3",
   "version": "3.9.16"
  }
 },
 "nbformat": 4,
 "nbformat_minor": 5
}
